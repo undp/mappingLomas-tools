{
 "cells": [
  {
      "cell_type": "markdown",
      "metadata": {},
      "source": [
        "<table class=\"ee-notebook-buttons\" align=\"center\">\n",
        "    <td><a target=\"_blank\"  href=\"https://colab.research.google.com/github/ytarazona/lomas-pnud/blob/main/notebooks/01%20Visualizaci%C3%B3n%20y%20descarga%20de%20%C3%ADndices%20NDVI%20MODIS%20para%20la%20provincia%20de%20Lima.ipynb\"><img src=\"https://www.tensorflow.org/images/colab_logo_32px.png\" /> Run in Google Colab</a></td>\n",
        "</table>"
      ]
    },
  {
   "cell_type": "markdown",
   "metadata": {},
   "source": [
    "## 1. Importación de las bibliotecas necesarias"
   ]
  },
  {
   "cell_type": "code",
   "execution_count": null,
   "metadata": {},
   "outputs": [],
   "source": [
    "# Instalar geemap package\n",
    "import subprocess\n",
    "\n",
    "try:\n",
    "    import geemap\n",
    "except ImportError:\n",
    "    print('Installing geemap ...')\n",
    "    subprocess.check_call([\"python\", '-m', 'pip', 'install', 'geemap'])"
   ]
  },
  {
   "cell_type": "code",
   "execution_count": 1,
   "metadata": {},
   "outputs": [],
   "source": [
    "import ee\n",
    "import geemap as emap\n",
    "Map = emap.Map()\n",
    "Map.add_basemap('ROADMAP')"
   ]
  },
  {
   "cell_type": "markdown",
   "metadata": {},
   "source": [
    "## 2. Visualización y descarga de índices NDVI MODIS para la provincia de Lima"
   ]
  },
  {
   "cell_type": "markdown",
   "metadata": {},
   "source": [
    "### 2.1 Visualización de los máximos NDVI"
   ]
  },
  {
   "cell_type": "code",
   "execution_count": 2,
   "metadata": {},
   "outputs": [
    {
     "data": {
      "application/vnd.jupyter.widget-view+json": {
       "model_id": "1f59ada709304b5aa07e5fbef9419264",
       "version_major": 2,
       "version_minor": 0
      },
      "text/plain": [
       "Map(center=[-12.020761229806144, -76.91462520735031], controls=(WidgetControl(options=['position'], widget=HBo…"
      ]
     },
     "metadata": {},
     "output_type": "display_data"
    }
   ],
   "source": [
    "# Establecemos la region de mapeo (provincia de Lima)\n",
    "region = ee.FeatureCollection('users/geoyons/tugee/LimaProv')\n",
    "mapLomas = ee.FeatureCollection('users/geoyons/tugee/Lomas_Modis')\n",
    "\n",
    "# Definimos la coleccion\n",
    "col = 'MODIS/006/MOD13Q1'\n",
    "\n",
    "# Definimos las bandas\n",
    "bands = ['NDVI']\n",
    "\n",
    "# Funcion de filtro de pixeles contaminados usando la banda de fiabilidad\n",
    "def maskSQA(image):\n",
    "    mask = image.select('SummaryQA').eq(0).Or(image.select('SummaryQA').eq(1))\n",
    "    imageMask = image.updateMask(mask)\n",
    "    return imageMask\n",
    "    \n",
    "# Filtrado de la coleccion MODIS\n",
    "colMODIS = ee.ImageCollection(col)\\\n",
    "        .filterDate('2018-01-01', '2018-12-31')\\\n",
    "        .filterBounds(region)\\\n",
    "        .map(maskSQA)\\\n",
    "        .reduce(ee.Reducer.max()).divide(10000).clip(mapLomas)\\\n",
    "        .reproject(crs = 'EPSG:4326', scale = 250)\n",
    "\n",
    "# Seleccion del indice NDVI\n",
    "ndvi = colMODIS.select([0], bands)\n",
    "\n",
    "# Definimos los parametros de visualizacion\n",
    "visParams = {\n",
    "  'min': 0.02,\n",
    "  'max': 0.4,\n",
    "  'palette': ['FFFFFF','CC9966','CC9900','996600', '33CC00', '009900','006600']\n",
    "}\n",
    "\n",
    "# Visualizamos el ndvi y la region de estudio\n",
    "Map.centerObject(region, 9)\n",
    "Map.addLayer(region, {}, 'Provincia de Lima', True)\n",
    "Map.addLayer(ndvi, visParams, 'NDVImax MODIS 2018')\n",
    "Map.add_colorbar(visParams, label=\"Normalized Difference Vegetation Index (NDVI)\")\n",
    "Map"
   ]
  },
  {
   "cell_type": "markdown",
   "metadata": {},
   "source": [
    "### 2.2 Descarga de los máximos NDVI"
   ]
  },
  {
   "cell_type": "code",
   "execution_count": null,
   "metadata": {},
   "outputs": [],
   "source": [
    "# Seccion de codigo para descarga automatica de indices MODIS\n",
    "col = 'MODIS/006/MOD13Q1'\n",
    "\n",
    "bands = ['NDVI']\n",
    "\n",
    "# Establecemos la region de mapeo (provincia de Lima)\n",
    "region = ee.FeatureCollection('users/geoyons/tugee/LimaProv')\n",
    "\n",
    "def getNDVImodis(ini_date, end_date, roi, folder):\n",
    "    '''\n",
    "    Esta funcion permite descargar automáticamente imagenes MODIS\n",
    "    directamente a una carpeta de Google Drive personal.\n",
    "    \n",
    "    Parametros:\n",
    "    \n",
    "        ini_date: Fecha de inicio\n",
    "        \n",
    "        ini_end: Fecha de fin\n",
    "        \n",
    "        roi: region de interes (FeatureCollection)\n",
    "        \n",
    "        folder: Nombre de la carpeta donde se descargara las imagenes\n",
    "    \n",
    "    Retura:\n",
    "        Imagenes de indices descargados en .tif.\n",
    "    '''\n",
    "    \n",
    "    def maskSQA(image):\n",
    "        mask = image.select('SummaryQA').eq(0).Or(image.select('SummaryQA').eq(1))\n",
    "        imageMask = image.updateMask(mask)\n",
    "        return imageMask\n",
    "    \n",
    "    ndvi = ee.ImageCollection(col)\\\n",
    "        .filterDate(ini_date, end_date)\\\n",
    "        .filterBounds(roi)\\\n",
    "        .map(maskSQA)\\\n",
    "        .reduce(ee.Reducer.max())\\\n",
    "        .divide(10000)\\\n",
    "        .clip(roi)\\\n",
    "        .select([0], bands)\n",
    "    \n",
    "    # Descargar directamente a Google Drive\n",
    "    task = ee.batch.Export.image(ndvi.select('NDVI'), \n",
    "                                 'NDVI_MODIS_' + ini_date + '_' + end_date + '_median', \n",
    "                                 {'region': region.geometry(),\n",
    "                                  'scale': 250,\n",
    "                                  'maxPixels': 1e13,\n",
    "                                  'folder': folder,\n",
    "                                  'fileFormat': 'GeoTIFF',\n",
    "                                  'crs': 'EPSG:4326'})\n",
    "    print('Descargando la imagen:'+'NDVI_MODIS_'+ini_date+'_'+end_date+'_max'+'.tif')\n",
    "    task.start()\n",
    "\n",
    "# Ejemplo de descargar para el año 2020\n",
    "getNDVImodis(ini_date = '2020-01-01', end_date = '2020-12-31', roi = region, folder = 'MOD13Q1_NDVI')"
   ]
  }
 ],
 "metadata": {
  "kernelspec": {
   "display_name": "Python 3",
   "language": "python",
   "name": "python3"
  },
  "language_info": {
   "codemirror_mode": {
    "name": "ipython",
    "version": 3
   },
   "file_extension": ".py",
   "mimetype": "text/x-python",
   "name": "python",
   "nbconvert_exporter": "python",
   "pygments_lexer": "ipython3",
   "version": "3.7.8"
  }
 },
 "nbformat": 4,
 "nbformat_minor": 4
}
