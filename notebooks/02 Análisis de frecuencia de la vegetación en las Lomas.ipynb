{
 "cells": [
  {
   "cell_type": "markdown",
   "metadata": {},
   "source": [
    "## 1. Importación de las bibliotecas necesarias"
   ]
  },
  {
   "cell_type": "code",
   "execution_count": 1,
   "metadata": {},
   "outputs": [],
   "source": [
    "# Instalar geemap package\n",
    "import subprocess\n",
    "\n",
    "try:\n",
    "    import geemap\n",
    "except ImportError:\n",
    "    print('Installing geemap ...')\n",
    "    subprocess.check_call([\"python\", '-m', 'pip', 'install', 'geemap'])"
   ]
  },
  {
   "cell_type": "code",
   "execution_count": 1,
   "metadata": {},
   "outputs": [],
   "source": [
    "import ee\n",
    "import numpy as np\n",
    "import geemap as emap\n",
    "import geemap.colormaps as cm\n",
    "Map = emap.Map()\n",
    "Map.add_basemap('ROADMAP')"
   ]
  },
  {
   "cell_type": "markdown",
   "metadata": {},
   "source": [
    "## 2. Análisis de frecuencia de la vegetación en las Lomas"
   ]
  },
  {
   "cell_type": "markdown",
   "metadata": {},
   "source": [
    "Para este análisis, es necesario visualizar el polígono de Lomas mapeadas previamente."
   ]
  },
  {
   "cell_type": "code",
   "execution_count": 2,
   "metadata": {},
   "outputs": [],
   "source": [
    "# Establecemos el poligono de lomas mapeadas\n",
    "region = ee.FeatureCollection('users/geoyons/tugee/LimaProv')\n",
    "mapLomas = ee.FeatureCollection('users/geoyons/tugee/Lomas_Modis')"
   ]
  },
  {
   "cell_type": "code",
   "execution_count": 3,
   "metadata": {},
   "outputs": [
    {
     "data": {
      "application/vnd.jupyter.widget-view+json": {
       "model_id": "674cb71686b44eddae8d9bed24ebfdc9",
       "version_major": 2,
       "version_minor": 0
      },
      "text/plain": [
       "Map(center=[-12.109113041673206, -76.85975617641348], controls=(WidgetControl(options=['position'], widget=HBo…"
      ]
     },
     "metadata": {},
     "output_type": "display_data"
    }
   ],
   "source": [
    "# Definimos la coleccion\n",
    "collection = 'MODIS/006/MOD13Q1'\n",
    "\n",
    "bands = ['NDVI']\n",
    "\n",
    "def maskSQA(image):\n",
    "    mask = image.select('SummaryQA').eq(0).Or(image.select('SummaryQA').eq(1))\n",
    "    imageMask = image.updateMask(mask)\n",
    "    return imageMask\n",
    "\n",
    "ini_date = ['2000-07-01','2001-07-01','2002-07-01','2003-07-01','2004-07-01','2005-07-01','2006-07-01','2007-07-01',\n",
    "           '2008-07-01','2009-07-01','2010-07-01','2011-07-01','2012-07-01','2013-07-01','2014-07-01','2015-07-01',\n",
    "           '2016-07-01','2017-07-01','2018-07-01','2019-07-01','2020-07-01']\n",
    "\n",
    "end_date = ['2000-10-30','2001-10-30','2002-10-30','2003-10-30','2004-10-30','2005-10-30','2006-10-30','2007-10-30',\n",
    "           '2008-10-30','2009-10-30','2010-10-30','2011-10-30','2012-10-30','2013-10-30','2014-10-30','2015-10-30',\n",
    "           '2016-10-30','2017-10-30','2018-10-30','2019-10-30','2020-10-30']\n",
    "\n",
    "freqLomas = ee.Image(0)\n",
    "for i in np.arange(0, len(ini_date), 1):\n",
    "    \n",
    "    col = ee.ImageCollection(collection)\\\n",
    "        .filterDate(ini_date[i],end_date[i])\\\n",
    "        .filterBounds(mapLomas)\\\n",
    "        .map(maskSQA)\\\n",
    "        .reduce(ee.Reducer.max())\\\n",
    "        .select([0], bands)\n",
    "    freq = col.select('NDVI').divide(10000).gte(0.15).unmask(0).clip(mapLomas)\n",
    "    freqLomas = freqLomas.add(freq)\n",
    "\n",
    "freqLomas.getInfo()\n",
    "\n",
    "palette = cm.palettes.viridis\n",
    "# Definimos los parametros de visualizacion\n",
    "visParams = {\n",
    "  'min': 0,\n",
    "  'max': 21,\n",
    "  'palette': palette\n",
    "}\n",
    "\n",
    "# Centramos el mapa y visualizamos\n",
    "Map.centerObject(mapLomas, 9)\n",
    "Map.addLayer(region, {}, 'Provincia de Lima', True)\n",
    "Map.addLayer(mapLomas, {}, 'Lomas de la Prov. Lima', True)\n",
    "Map.addLayer(freqLomas, visParams, 'Freq. de Vet. Lomas')\n",
    "Map.add_colorbar(visParams, label=\"Frecuencia de Aparición de Lomas\", layer_name=\"SRTM DEM\")\n",
    "Map"
   ]
  },
  {
   "cell_type": "markdown",
   "metadata": {},
   "source": [
    "### 2.1. Descarga del raster de probabilidades"
   ]
  },
  {
   "cell_type": "code",
   "execution_count": 4,
   "metadata": {},
   "outputs": [],
   "source": [
    "# Descargar directamente a Google Drive\n",
    "task = ee.batch.Export.image(freqLomas.divide(21), \n",
    "                              'PROB_VEGT_LOMAS_2000-2020_MODIS', \n",
    "                              {'region': region.geometry(),\n",
    "                               'scale': 250,\n",
    "                               'maxPixels': 1e13,\n",
    "                               'folder': 'MOD13Q1_NDVI',\n",
    "                               'fileFormat': 'GeoTIFF',\n",
    "                               'crs': 'EPSG:4326'})\n",
    "task.start()"
   ]
  }
 ],
 "metadata": {
  "kernelspec": {
   "display_name": "Python 3",
   "language": "python",
   "name": "python3"
  },
  "language_info": {
   "codemirror_mode": {
    "name": "ipython",
    "version": 3
   },
   "file_extension": ".py",
   "mimetype": "text/x-python",
   "name": "python",
   "nbconvert_exporter": "python",
   "pygments_lexer": "ipython3",
   "version": "3.7.8"
  }
 },
 "nbformat": 4,
 "nbformat_minor": 4
}
