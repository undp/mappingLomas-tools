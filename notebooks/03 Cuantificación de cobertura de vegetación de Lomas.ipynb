{
 "cells": [
  {
   "cell_type": "markdown",
   "metadata": {},
   "source": [
    "# **_<div class=\"alert alert-info\"><font color='darkred'> Cartografiando las Lomas</font></div>_**"
   ]
  },
  {
   "cell_type": "markdown",
   "metadata": {},
   "source": [
    "## 1. Importación de las bibliotecas necesarias"
   ]
  },
  {
   "cell_type": "code",
   "execution_count": 2,
   "metadata": {},
   "outputs": [],
   "source": [
    "import ee\n",
    "import numpy as np\n",
    "import pandas as pd\n",
    "import geemap as emap\n",
    "Map = emap.Map()\n",
    "Map.add_basemap('ROADMAP')"
   ]
  },
  {
   "cell_type": "markdown",
   "metadata": {},
   "source": [
    "## 2. Cuantificación de cobertura de vegetación de Lomas"
   ]
  },
  {
   "cell_type": "markdown",
   "metadata": {},
   "source": [
    "### 2.1 Cuantificación de cobertura para la loma \"Lurín\""
   ]
  },
  {
   "cell_type": "code",
   "execution_count": 10,
   "metadata": {},
   "outputs": [],
   "source": [
    "# Establecemos el poligono de lomas mapeadas\n",
    "lurin = ee.FeatureCollection('users/geoyons/tugee/Lomas_Modis')\\\n",
    "                  .filterMetadata('Nombre','equals','Lurin')"
   ]
  },
  {
   "cell_type": "code",
   "execution_count": 17,
   "metadata": {},
   "outputs": [
    {
     "data": {
      "application/vnd.jupyter.widget-view+json": {
       "model_id": "a80f025e61564a92a9e138e3472971a6",
       "version_major": 2,
       "version_minor": 0
      },
      "text/plain": [
       "Map(bottom=1120685.0, center=[-12.240160663076535, -76.76200436621019], controls=(WidgetControl(options=['posi…"
      ]
     },
     "metadata": {},
     "output_type": "display_data"
    }
   ],
   "source": [
    "## VISUALIZACION DE LAS HECTAREAS DE UNA LOMA ESPECIFICA - LOMA PACHACAMAC\n",
    "\n",
    "# Definimos la coleccion\n",
    "collection = 'MODIS/006/MOD13Q1'\n",
    "\n",
    "# Definimos las bandas\n",
    "bands = ['NDVI']\n",
    "# Para umbrales menores a 0.15 de NDVI (no vegetacion)\n",
    "value = 2\n",
    "\n",
    "# Funcion de filtro de pixeles contaminados usando la banda de fiabilidad\n",
    "def maskSQA(image):\n",
    "    mask = image.select('SummaryQA').eq(0).Or(image.select('SummaryQA').eq(1))\n",
    "    imageMask = image.updateMask(mask)\n",
    "    return imageMask\n",
    "    \n",
    "# Filtrado de la coleccion MODIS\n",
    "rast = ee.ImageCollection(collection)\\\n",
    "        .filterDate('2002-07-01', '2002-10-30')\\\n",
    "        .filterBounds(lurin)\\\n",
    "        .map(maskSQA)\\\n",
    "        .reduce(ee.Reducer.median()).select([0], bands)\\\n",
    "        .reproject(crs = 'EPSG:4326', scale = 250)\n",
    "\n",
    "haLomas = rast.divide(10000).gte(0.15)\n",
    "mask = haLomas.lt(0.15)\n",
    "haLomas = mask.multiply(value).add(haLomas.multiply(mask.Not()))\\\n",
    "              .unmask(3).clip(lurin) # 3 para areas de nubes o residuales\n",
    "\n",
    "# Definimos los parametros de visualizacion\n",
    "visParams = {\n",
    "  'bands': ['NDVI'],\n",
    "  'min': 1,\n",
    "  'max': 3,\n",
    "  'palette': ['#13de13','#4d4def','#dc0f0f'] # cod1 = veget, cod2=NoVeget, cod3=cobNubes\n",
    "}\n",
    "\n",
    "# Visualizamos\n",
    "Map.centerObject(lurin, 13)\n",
    "Map.addLayer(lurin, {}, 'Variante de Ancon', True)\n",
    "Map.addLayer(haLomas, visParams, 'Areas de clases Variante de Ancon')\n",
    "Map"
   ]
  },
  {
   "cell_type": "markdown",
   "metadata": {},
   "source": [
    "### 2.2 Descarga de las áreas de todas las lomas"
   ]
  },
  {
   "cell_type": "code",
   "execution_count": null,
   "metadata": {},
   "outputs": [],
   "source": [
    "## DESCARGA DE LAS AREAS DE CADA LOMA ENTRE EL PERIODO 2000 A 2020\n",
    "\n",
    "# Definimos las entidades vectoriales\n",
    "lomas = ee.FeatureCollection('users/geoyons/tugee/Lomas_Modis')\n",
    "#listLomas = lomas.toList(lomas.size())\n",
    "#listLomas.length().getInfo()\n",
    "\n",
    "# Leer la tabla de nombres de lomas con PANDAS\n",
    "data = pd.read_csv(\"F:/ConsultoriaPNUD/Data/CSV/Lomas_Modis.csv\", delimiter = \";\")\n",
    "# Para ver los primeros 3\n",
    "names = data['Nombre'].tolist() # convertir toda el df => df.values.tolist()\n",
    "\n",
    "# Definimos la coleccion\n",
    "collection = 'MODIS/006/MOD13Q1'\n",
    "\n",
    "# Definimos las bandas\n",
    "bands = ['NDVI']\n",
    "# Para umbrales menores a 0.15 de NDVI\n",
    "value = 2\n",
    "\n",
    "ini_date = ['2000-07-01','2001-07-01','2002-07-01','2003-07-01','2004-07-01','2005-07-01','2006-07-01','2007-07-01',\n",
    "           '2008-07-01','2009-07-01','2010-07-01','2011-07-01','2012-07-01','2013-07-01','2014-07-01','2015-07-01',\n",
    "           '2016-07-01','2017-07-01','2018-07-01','2019-07-01','2020-07-01']\n",
    "\n",
    "end_date = ['2000-10-30','2001-10-30','2002-10-30','2003-10-30','2004-10-30','2005-10-30','2006-10-30','2007-10-30',\n",
    "           '2008-10-30','2009-10-30','2010-10-30','2011-10-30','2012-10-30','2013-10-30','2014-10-30','2015-10-30',\n",
    "           '2016-10-30','2017-10-30','2018-10-30','2019-10-30','2020-10-30']\n",
    "\n",
    "# Funcion de filtro de pixeles contaminados usando la banda de fiabilidad\n",
    "def maskSQA(image):\n",
    "    mask = image.select('SummaryQA').eq(0).Or(image.select('SummaryQA').eq(1))\n",
    "    imageMask = image.updateMask(mask)\n",
    "    return imageMask\n",
    "\n",
    "for j in np.arange(0, len(names), 1):\n",
    "    \n",
    "    clasLomas = ee.List([])\n",
    "    \n",
    "    #name = ee.Feature(listLomas.get(j)).getInfo()[\"properties\"]['NOMBRE'] # NOMBRE es el campo\n",
    "    \n",
    "    lms = ee.FeatureCollection('users/geoyons/tugee/Lomas_Modis')\\\n",
    "            .filterMetadata('Nombre','equals', names[j])\n",
    "    \n",
    "    for i in np.arange(0, len(ini_date), 1):\n",
    "        # Filtrado de la coleccion MODIS\n",
    "        rast = ee.ImageCollection(collection)\\\n",
    "             .filterDate(ini_date[i], end_date[i])\\\n",
    "             .filterBounds(lms)\\\n",
    "             .map(maskSQA)\\\n",
    "             .reduce(ee.Reducer.max()).select([0], bands)\n",
    "        \n",
    "        haLomas = rast.divide(10000).gte(0.15)\n",
    "        mask = haLomas.lt(0.15)\n",
    "        haLomas = mask.multiply(value).add(haLomas.multiply(mask.Not()))\\\n",
    "              .unmask(3).clip(lms) # 3 para areas de nubes o residuales\n",
    "        \n",
    "        clasLomas = clasLomas.add(haLomas)\n",
    "    \n",
    "    # Coleccion de imagenes\n",
    "    clasLomas = ee.ImageCollection.fromImages(clasLomas)\n",
    "    # Coleccion a stack\n",
    "    clasLomas = clasLomas.toBands()\n",
    "    \n",
    "    # Descargar directamente a Google Drive\n",
    "    task = ee.batch.Export.image(clasLomas.divide(1), \n",
    "                              'LOMA_' + names[j] + '_' + '2000-2020' + '_CLASS', \n",
    "                              {'region': lms.geometry(),\n",
    "                               'scale': 250,\n",
    "                               'maxPixels': 1e13,\n",
    "                               'folder': 'MOD13Q1_NDVI',\n",
    "                               'fileFormat': 'GeoTIFF',\n",
    "                               'crs': 'EPSG:4326'})\n",
    "    print('Descargando la imagen:' + 'LOMA_' + names[j] + '_' + '2000-2020' + '_CLASS' + '.tif')\n",
    "    task.start()"
   ]
  }
 ],
 "metadata": {
  "kernelspec": {
   "display_name": "Python 3",
   "language": "python",
   "name": "python3"
  },
  "language_info": {
   "codemirror_mode": {
    "name": "ipython",
    "version": 3
   },
   "file_extension": ".py",
   "mimetype": "text/x-python",
   "name": "python",
   "nbconvert_exporter": "python",
   "pygments_lexer": "ipython3",
   "version": "3.7.8"
  }
 },
 "nbformat": 4,
 "nbformat_minor": 4
}
